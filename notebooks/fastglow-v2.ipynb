{
 "cells": [
  {
   "cell_type": "code",
   "execution_count": 1,
   "metadata": {},
   "outputs": [],
   "source": [
    "import sys\n",
    "sys.path.append('../')\n",
    "\n",
    "import math\n",
    "from abc import ABC\n",
    "\n",
    "import torch\n",
    "\n",
    "from src.tts.models.fastglow.FastGlow2 import FastGlow2\n",
    "\n",
    "device = \"cuda\" if torch.cuda.is_available() else \"cpu\""
   ]
  },
  {
   "cell_type": "code",
   "execution_count": 2,
   "metadata": {},
   "outputs": [
    {
     "name": "stderr",
     "output_type": "stream",
     "text": [
      "/home/hungle45/Workspaces/ias_lab/topics/datn/venv/lib/python3.10/site-packages/torch/nn/utils/weight_norm.py:30: UserWarning: torch.nn.utils.weight_norm is deprecated in favor of torch.nn.utils.parametrizations.weight_norm.\n",
      "  warnings.warn(\"torch.nn.utils.weight_norm is deprecated in favor of torch.nn.utils.parametrizations.weight_norm.\")\n"
     ]
    }
   ],
   "source": [
    "fastglow = FastGlow2().to(device)"
   ]
  },
  {
   "cell_type": "code",
   "execution_count": 3,
   "metadata": {},
   "outputs": [],
   "source": [
    "text_tensors=torch.rand(2,5,62).to(device)\n",
    "text_lens=torch.tensor([5,3]).to(device)\n",
    "speech_lens=torch.tensor([10,7]).to(device)\n",
    "gold_speech=torch.rand(2,10,80).to(device)\n",
    "gold_pitch=torch.rand(2,10,1).to(device)\n",
    "gold_energy=torch.rand(2,10,1).to(device)\n",
    "is_inference=False\n",
    "alpha=1.0\n",
    "utterance_embedding=torch.rand(2,64).to(device)\n",
    "lang_ids=None"
   ]
  },
  {
   "cell_type": "code",
   "execution_count": 4,
   "metadata": {},
   "outputs": [],
   "source": [
    "outs = fastglow._forward(\n",
    "    text_tensors= text_tensors,\n",
    "    text_lens= text_lens,\n",
    "    gold_speech=None,\n",
    "    speech_lens=None,\n",
    "    gold_pitch=None,\n",
    "    gold_energy=None,\n",
    "    is_inference=True,\n",
    "    alpha=1.0,\n",
    "    utterance_embedding=utterance_embedding,\n",
    "    lang_ids=None,\n",
    ")"
   ]
  },
  {
   "cell_type": "code",
   "execution_count": 5,
   "metadata": {},
   "outputs": [
    {
     "data": {
      "text/plain": [
       "torch.Size([2, 9, 80])"
      ]
     },
     "execution_count": 5,
     "metadata": {},
     "output_type": "execute_result"
    }
   ],
   "source": [
    "outs[0].shape"
   ]
  },
  {
   "cell_type": "code",
   "execution_count": 6,
   "metadata": {},
   "outputs": [],
   "source": [
    "outs = fastglow._forward(\n",
    "    text_tensors= text_tensors,\n",
    "    text_lens= text_lens,\n",
    "    gold_speech=gold_speech,\n",
    "    speech_lens=speech_lens,\n",
    "    gold_pitch=gold_pitch,\n",
    "    gold_energy=gold_energy,\n",
    "    is_inference=False,\n",
    "    alpha=1.0,\n",
    "    utterance_embedding=utterance_embedding,\n",
    "    lang_ids=None,\n",
    ")"
   ]
  },
  {
   "cell_type": "code",
   "execution_count": 7,
   "metadata": {},
   "outputs": [
    {
     "data": {
      "text/plain": [
       "torch.Size([2, 10, 80])"
      ]
     },
     "execution_count": 7,
     "metadata": {},
     "output_type": "execute_result"
    }
   ],
   "source": [
    "outs[3].shape"
   ]
  },
  {
   "cell_type": "code",
   "execution_count": 8,
   "metadata": {},
   "outputs": [],
   "source": [
    "loss, mel_outs, mle_loss, duration_loss, pitch_loss, energy_loss = fastglow(\n",
    "    text_tensors= text_tensors,\n",
    "    text_lengths= text_lens,\n",
    "    gold_speech=gold_speech,\n",
    "    speech_lengths= speech_lens,\n",
    "    gold_pitch=gold_pitch,\n",
    "    gold_energy=gold_energy,\n",
    "    utterance_embedding=utterance_embedding,\n",
    "    return_mels=True,\n",
    "    lang_ids=None,\n",
    ")"
   ]
  },
  {
   "cell_type": "code",
   "execution_count": 9,
   "metadata": {},
   "outputs": [],
   "source": [
    "text = torch.rand(5,62).to(device)\n",
    "utterance_embedding = torch.rand(64).to(device)\n",
    "\n",
    "mel_outs, d_outs, p_outs, e_outs = fastglow.inference(\n",
    "    text=text,\n",
    "    alpha=1.0,\n",
    "    utterance_embedding=utterance_embedding,\n",
    "    return_duration_pitch_energy=True,\n",
    "    lang_ids=None,\n",
    ")"
   ]
  }
 ],
 "metadata": {
  "kernelspec": {
   "display_name": "venv",
   "language": "python",
   "name": "python3"
  },
  "language_info": {
   "codemirror_mode": {
    "name": "ipython",
    "version": 3
   },
   "file_extension": ".py",
   "mimetype": "text/x-python",
   "name": "python",
   "nbconvert_exporter": "python",
   "pygments_lexer": "ipython3",
   "version": "3.10.13"
  },
  "orig_nbformat": 4
 },
 "nbformat": 4,
 "nbformat_minor": 2
}

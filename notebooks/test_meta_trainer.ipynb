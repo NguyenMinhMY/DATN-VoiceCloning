{
 "cells": [
  {
   "cell_type": "code",
   "execution_count": 1,
   "metadata": {},
   "outputs": [
    {
     "name": "stderr",
     "output_type": "stream",
     "text": [
      "/home/hungle45/Workspaces/ias_lab/topics/datn/venv/lib/python3.10/site-packages/tqdm/auto.py:22: TqdmWarning: IProgress not found. Please update jupyter and ipywidgets. See https://ipywidgets.readthedocs.io/en/stable/user_install.html\n",
      "  from .autonotebook import tqdm as notebook_tqdm\n"
     ]
    },
    {
     "data": {
      "text/plain": [
       "'cuda'"
      ]
     },
     "execution_count": 1,
     "metadata": {},
     "output_type": "execute_result"
    }
   ],
   "source": [
    "import os, sys\n",
    "from collections import defaultdict\n",
    "from tqdm import tqdm\n",
    "\n",
    "sys.path.append(\"../\")\n",
    "\n",
    "import random\n",
    "import numpy as np\n",
    "import torch\n",
    "import learn2learn as l2l\n",
    "\n",
    "from src.datasets.fastspeech_dataset import (\n",
    "    build_path_to_transcript_dict_libri_tts,\n",
    "    FastSpeechDataset,\n",
    ")\n",
    "from src.datasets.meta_fastspeech_dataset import MetaFastSpeechDataset\n",
    "from src.tts.models.fastspeech2.FastSpeech2 import FastSpeech2\n",
    "from src.pipelines.gst_fastspeech2 import meta_train_loop, train_loop\n",
    "\n",
    "device = \"cuda\" if torch.cuda.is_available() else \"cpu\"\n",
    "device"
   ]
  },
  {
   "cell_type": "code",
   "execution_count": 2,
   "metadata": {},
   "outputs": [],
   "source": [
    "TEST_CLEAN_PATH = \"../data/test-clean\"\n",
    "ALIGNER_CHECKPOINT = \"../saved_models/aligner.pt\""
   ]
  },
  {
   "cell_type": "code",
   "execution_count": 3,
   "metadata": {},
   "outputs": [
    {
     "name": "stdout",
     "output_type": "stream",
     "text": [
      "Prepared a FastSpeech dataset with 18 datapoints in ./librispeech/.\n"
     ]
    },
    {
     "name": "stderr",
     "output_type": "stream",
     "text": [
      "100%|██████████| 18/18 [00:00<00:00, 60157.35it/s]"
     ]
    },
    {
     "name": "stdout",
     "output_type": "stream",
     "text": [
      "Got 3 speakers\n"
     ]
    },
    {
     "name": "stderr",
     "output_type": "stream",
     "text": [
      "\n"
     ]
    }
   ],
   "source": [
    "transcript_dict = build_path_to_transcript_dict_libri_tts(TEST_CLEAN_PATH)\n",
    "\n",
    "dataset = MetaFastSpeechDataset(\n",
    "    path_to_transcript_dict=transcript_dict,\n",
    "    acoustic_checkpoint_path=ALIGNER_CHECKPOINT,  # path to aligner.pt\n",
    "    cache_dir=\"./librispeech/\",\n",
    "    lang=\"en\",\n",
    "    loading_processes=2,  # depended on how many CPU you have\n",
    "    device=device,\n",
    "    n_way_shot=1,\n",
    "    n_way_query=1,\n",
    "    k_shot=1,\n",
    "    k_query=1,\n",
    "    n_task=1,\n",
    "    n_batch=1,\n",
    ")"
   ]
  },
  {
   "cell_type": "code",
   "execution_count": null,
   "metadata": {},
   "outputs": [],
   "source": [
    "meta_train_loop.train_loop(\n",
    "    net,\n",
    "    dataset,\n",
    "    device=device,\n",
    "    save_directory=\"./save_models\",\n",
    "    path_to_checkpoint=None,\n",
    "    resume=False,\n",
    "    # fine_tune=True,\n",
    "    phase_1_steps=2,\n",
    "    phase_2_steps=2,\n",
    "    adaptation_steps=1,\n",
    "    steps_per_save=1,\n",
    "    path_to_embed_model=\"../saved_models/embedding_function.pt\",\n",
    "    inner_lr=0.01,\n",
    "    outer_lr=0.001,\n",
    "    warmup_steps=1,\n",
    "    use_wandb=False,\n",
    ")"
   ]
  }
 ],
 "metadata": {
  "kernelspec": {
   "display_name": "venv",
   "language": "python",
   "name": "python3"
  },
  "language_info": {
   "codemirror_mode": {
    "name": "ipython",
    "version": 3
   },
   "file_extension": ".py",
   "mimetype": "text/x-python",
   "name": "python",
   "nbconvert_exporter": "python",
   "pygments_lexer": "ipython3",
   "version": "3.10.13"
  },
  "orig_nbformat": 4
 },
 "nbformat": 4,
 "nbformat_minor": 2
}

{
 "cells": [
  {
   "cell_type": "code",
   "execution_count": 2,
   "metadata": {},
   "outputs": [],
   "source": [
    "import sys\n",
    "sys.path.append('../')\n",
    "\n",
    "import math\n",
    "\n",
    "import torch\n",
    "\n",
    "from src.tts.losses.FastGlowLoss import FastGlowLoss\n",
    "\n",
    "device = torch.device('cuda' if torch.cuda.is_available() else 'cpu')"
   ]
  },
  {
   "cell_type": "code",
   "execution_count": 10,
   "metadata": {},
   "outputs": [],
   "source": [
    "criterion = FastGlowLoss(False, True)"
   ]
  },
  {
   "cell_type": "code",
   "execution_count": 11,
   "metadata": {},
   "outputs": [],
   "source": [
    "z_outs = torch.rand(2, 10, 80).to(device)\n",
    "z_mean_outs = torch.rand(2, 10, 80).to(device)\n",
    "z_std_outs = torch.rand(2, 10, 80).to(device)\n",
    "d_outs = torch.rand(2, 5).to(device)\n",
    "p_outs = torch.rand(2, 10, 1).to(device)\n",
    "e_outs = torch.rand(2, 10, 1).to(device)\n",
    "ds = torch.rand(2, 5).to(device)\n",
    "ps = torch.rand(2, 10, 1).to(device)\n",
    "es = torch.rand(2, 10, 1).to(device)\n",
    "ilens = torch.tensor([3,5]).to(device)\n",
    "olens = torch.tensor([6,10]).to(device)\n",
    "logdet = torch.tensor([1,2]).to(device)"
   ]
  },
  {
   "cell_type": "code",
   "execution_count": 12,
   "metadata": {},
   "outputs": [],
   "source": [
    "loss = criterion(\n",
    "    z_outs, \n",
    "    z_mean_outs, \n",
    "    z_std_outs,\n",
    "    d_outs,\n",
    "    p_outs,\n",
    "    e_outs,\n",
    "    ds,\n",
    "    ps,\n",
    "    es,\n",
    "    ilens,\n",
    "    olens,\n",
    "    logdet\n",
    ")"
   ]
  }
 ],
 "metadata": {
  "kernelspec": {
   "display_name": "venv",
   "language": "python",
   "name": "python3"
  },
  "language_info": {
   "codemirror_mode": {
    "name": "ipython",
    "version": 3
   },
   "file_extension": ".py",
   "mimetype": "text/x-python",
   "name": "python",
   "nbconvert_exporter": "python",
   "pygments_lexer": "ipython3",
   "version": "3.10.13"
  },
  "orig_nbformat": 4
 },
 "nbformat": 4,
 "nbformat_minor": 2
}

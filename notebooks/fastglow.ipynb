{
 "cells": [
  {
   "cell_type": "code",
   "execution_count": null,
   "metadata": {},
   "outputs": [],
   "source": [
    "import sys\n",
    "sys.path.append(\"../\")\n",
    "\n",
    "import torch\n",
    "\n",
    "from src.tts.models.fastglow.FastGlow import FastGlow"
   ]
  },
  {
   "cell_type": "code",
   "execution_count": null,
   "metadata": {},
   "outputs": [],
   "source": [
    "fastglow = FastGlow().train()"
   ]
  },
  {
   "cell_type": "code",
   "execution_count": null,
   "metadata": {},
   "outputs": [],
   "source": [
    "text_tensors=torch.rand(2,5,62)\n",
    "text_lens=torch.tensor([5,3])\n",
    "speech_lens=torch.tensor([10,7])\n",
    "gold_speech=torch.rand(2,10,80)\n",
    "gold_pitch=torch.rand(2,5,1)\n",
    "gold_energy=torch.rand(2,5,1)\n",
    "is_inference=False\n",
    "alpha=1.0\n",
    "utterance_embedding=torch.rand(2,64)\n",
    "lang_ids=None"
   ]
  },
  {
   "cell_type": "code",
   "execution_count": null,
   "metadata": {},
   "outputs": [],
   "source": [
    "outs = fastglow._forward(\n",
    "    text_tensors=text_tensors,\n",
    "    text_lens=text_lens,\n",
    "    utterance_embedding=utterance_embedding,\n",
    "    is_inference=True,\n",
    "    lang_ids=lang_ids,\n",
    ")\n",
    "\n",
    "outs[0].shape"
   ]
  },
  {
   "cell_type": "code",
   "execution_count": null,
   "metadata": {},
   "outputs": [],
   "source": [
    "outs = fastglow._forward(\n",
    "    text_tensors=text_tensors,\n",
    "    text_lens=text_lens,\n",
    "    gold_speech=gold_speech,\n",
    "    speech_lens=speech_lens,\n",
    "    gold_pitch=gold_pitch,\n",
    "    gold_energy=gold_energy,\n",
    "    utterance_embedding=utterance_embedding,\n",
    "    is_inference=False,\n",
    "    lang_ids=lang_ids,\n",
    ")\n",
    "\n",
    "outs[0].shape"
   ]
  }
 ],
 "metadata": {
  "kernelspec": {
   "display_name": "venv",
   "language": "python",
   "name": "python3"
  },
  "language_info": {
   "codemirror_mode": {
    "name": "ipython",
    "version": 3
   },
   "file_extension": ".py",
   "mimetype": "text/x-python",
   "name": "python",
   "nbconvert_exporter": "python",
   "pygments_lexer": "ipython3",
   "version": "3.10.13"
  },
  "orig_nbformat": 4
 },
 "nbformat": 4,
 "nbformat_minor": 2
}

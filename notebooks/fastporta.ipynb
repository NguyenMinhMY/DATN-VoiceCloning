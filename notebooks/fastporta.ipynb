{
 "cells": [
  {
   "cell_type": "code",
   "execution_count": 1,
   "metadata": {},
   "outputs": [],
   "source": [
    "import sys\n",
    "sys.path.append(\"../\")\n",
    "\n",
    "import torch\n",
    "\n",
    "from src.tts.models.fastporta.FastPorta import FastPorta"
   ]
  },
  {
   "cell_type": "code",
   "execution_count": 2,
   "metadata": {},
   "outputs": [
    {
     "name": "stderr",
     "output_type": "stream",
     "text": [
      "/home/hungle45/Workspaces/ias_lab/topics/datn/venv/lib/python3.10/site-packages/torch/nn/utils/weight_norm.py:30: UserWarning: torch.nn.utils.weight_norm is deprecated in favor of torch.nn.utils.parametrizations.weight_norm.\n",
      "  warnings.warn(\"torch.nn.utils.weight_norm is deprecated in favor of torch.nn.utils.parametrizations.weight_norm.\")\n"
     ]
    }
   ],
   "source": [
    "net = FastPorta().train()"
   ]
  },
  {
   "cell_type": "code",
   "execution_count": 3,
   "metadata": {},
   "outputs": [],
   "source": [
    "text_tensors=torch.rand(2,5,62)\n",
    "text_lens=torch.tensor([5,3])\n",
    "speech_lens=torch.tensor([10,7])\n",
    "gold_speech=torch.rand(2,10,80)\n",
    "gold_durations=torch.tensor([\n",
    "    [2,2,2,2,2],\n",
    "    [2,2,3,0,0]\n",
    "])\n",
    "gold_pitch=torch.rand(2,5,1)\n",
    "gold_energy=torch.rand(2,5,1)\n",
    "is_inference=False\n",
    "alpha=1.0\n",
    "utterance_embedding=torch.rand(2,64)\n",
    "lang_ids=None"
   ]
  },
  {
   "cell_type": "code",
   "execution_count": 4,
   "metadata": {},
   "outputs": [
    {
     "name": "stdout",
     "output_type": "stream",
     "text": [
      "torch.Size([2, 2, 80])\n",
      "torch.Size([2, 5])\n",
      "torch.Size([2, 5, 1])\n",
      "torch.Size([2, 5, 1])\n",
      "None\n"
     ]
    }
   ],
   "source": [
    "outs = net._forward(\n",
    "    text_tensors=text_tensors,\n",
    "    text_lens=text_lens,\n",
    "    utterance_embedding=utterance_embedding,\n",
    "    is_inference=True,\n",
    "    lang_ids=lang_ids,\n",
    ")\n",
    "\n",
    "for v in outs:\n",
    "    print(v.shape if v != None else None)"
   ]
  },
  {
   "cell_type": "code",
   "execution_count": 5,
   "metadata": {},
   "outputs": [
    {
     "name": "stdout",
     "output_type": "stream",
     "text": [
      "torch.Size([2, 10, 80])\n",
      "torch.Size([2, 5])\n",
      "torch.Size([2, 5, 1])\n",
      "torch.Size([2, 5, 1])\n",
      "torch.Size([])\n"
     ]
    }
   ],
   "source": [
    "outs = net._forward(\n",
    "    text_tensors=text_tensors,\n",
    "    text_lens=text_lens,\n",
    "    gold_speech=gold_speech,\n",
    "    speech_lens=speech_lens,\n",
    "    gold_durations=gold_durations,\n",
    "    gold_pitch=gold_pitch,\n",
    "    gold_energy=gold_energy,\n",
    "    utterance_embedding=utterance_embedding,\n",
    "    is_inference=False,\n",
    "    lang_ids=lang_ids,\n",
    ")\n",
    "\n",
    "for v in outs:\n",
    "    print(v.shape if v != None else None)"
   ]
  },
  {
   "cell_type": "code",
   "execution_count": 6,
   "metadata": {},
   "outputs": [
    {
     "name": "stdout",
     "output_type": "stream",
     "text": [
      "(tensor(5.1532), tensor(0.5533), tensor(1.0585), tensor(2.1886), tensor(0.7408), tensor(0.6120))\n"
     ]
    }
   ],
   "source": [
    "with torch.no_grad():\n",
    "    outs = net.forward(\n",
    "        text_tensors=text_tensors,\n",
    "        text_lengths=text_lens,\n",
    "        gold_speech=gold_speech,\n",
    "        speech_lengths=speech_lens,\n",
    "        gold_durations=gold_durations,\n",
    "        gold_pitch=gold_pitch,\n",
    "        gold_energy=gold_energy,\n",
    "        utterance_embedding=utterance_embedding,\n",
    "        lang_ids=lang_ids,\n",
    "    )\n",
    "\n",
    "    print(outs)"
   ]
  }
 ],
 "metadata": {
  "kernelspec": {
   "display_name": "venv",
   "language": "python",
   "name": "python3"
  },
  "language_info": {
   "codemirror_mode": {
    "name": "ipython",
    "version": 3
   },
   "file_extension": ".py",
   "mimetype": "text/x-python",
   "name": "python",
   "nbconvert_exporter": "python",
   "pygments_lexer": "ipython3",
   "version": "3.10.13"
  },
  "orig_nbformat": 4
 },
 "nbformat": 4,
 "nbformat_minor": 2
}

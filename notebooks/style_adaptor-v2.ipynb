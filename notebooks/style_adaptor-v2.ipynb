{
 "cells": [
  {
   "cell_type": "code",
   "execution_count": 3,
   "metadata": {},
   "outputs": [],
   "source": [
    "import sys\n",
    "sys.path.append(\"../\")\n",
    "\n",
    "from abc import ABC\n",
    "\n",
    "import torch\n",
    "\n",
    "from src.tts.layers.StyleAdaptor2 import StyleAdaptor2\n",
    "\n",
    "device = torch.device(\"cuda\" if torch.cuda.is_available() else \"cpu\")"
   ]
  },
  {
   "cell_type": "code",
   "execution_count": 4,
   "metadata": {},
   "outputs": [],
   "source": [
    "style_adaptor = StyleAdaptor2().to(device)"
   ]
  },
  {
   "cell_type": "code",
   "execution_count": 5,
   "metadata": {},
   "outputs": [],
   "source": [
    "xs = torch.rand(2,10,80).to(device)\n",
    "padding_mask = torch.tensor([\n",
    "    [0,0,0,0,0,0,0,1,1,1],\n",
    "    [0,0,0,0,0,0,0,0,0,0]\n",
    "]).to(torch.bool).to(device)\n",
    "gold_pitch = torch.rand(2,10,1).to(device)\n",
    "gold_energy = torch.rand(2,10,1).to(device)"
   ]
  },
  {
   "cell_type": "code",
   "execution_count": 6,
   "metadata": {},
   "outputs": [],
   "source": [
    "outs = style_adaptor(\n",
    "    xs,\n",
    "    padding_mask=padding_mask.unsqueeze(-1),\n",
    "    gold_pitch=gold_pitch,\n",
    "    gold_energy=gold_energy,\n",
    "    is_inference=False\n",
    ")"
   ]
  },
  {
   "cell_type": "code",
   "execution_count": 7,
   "metadata": {},
   "outputs": [
    {
     "data": {
      "text/plain": [
       "tensor([[[-0.2072, -0.0434, -0.3190,  ..., -1.1949, -0.7204, -0.9371],\n",
       "         [-1.3792, -0.8727,  0.2512,  ..., -0.7648, -0.6158, -0.7576],\n",
       "         [-0.4047, -0.2289, -0.2493,  ..., -1.1006, -0.7536, -1.0583],\n",
       "         ...,\n",
       "         [-1.0473, -0.5764,  0.1254,  ..., -0.9159, -0.5771, -0.6048],\n",
       "         [-0.9707, -0.7361, -0.0359,  ..., -0.8419, -0.8218, -1.3258],\n",
       "         [-0.4909, -0.2170, -0.1652,  ..., -1.1037, -0.6649, -0.8037]],\n",
       "\n",
       "        [[-1.3673, -0.8591,  0.2485,  ..., -0.7717, -0.6110, -0.7421],\n",
       "         [-0.7614, -0.5540, -0.1180,  ..., -0.9350, -0.8026, -1.2449],\n",
       "         [-1.4830, -1.0008,  0.2701,  ..., -0.7006, -0.6672, -0.9228],\n",
       "         ...,\n",
       "         [-0.3826, -0.2052, -0.2554,  ..., -1.1126, -0.7466, -1.0350],\n",
       "         [-1.4987, -1.0669,  0.2458,  ..., -0.6686, -0.7270, -1.1029],\n",
       "         [-0.9724, -0.4802,  0.1140,  ..., -0.9641, -0.5357, -0.4728]]],\n",
       "       device='cuda:0', grad_fn=<AddBackward0>)"
      ]
     },
     "execution_count": 7,
     "metadata": {},
     "output_type": "execute_result"
    }
   ],
   "source": [
    "outs[0]"
   ]
  },
  {
   "cell_type": "code",
   "execution_count": 8,
   "metadata": {},
   "outputs": [],
   "source": [
    "outs = style_adaptor(\n",
    "    xs,\n",
    "    padding_mask=padding_mask.unsqueeze(-1),\n",
    "    gold_pitch=None,\n",
    "    gold_energy=None,\n",
    "    is_inference=True\n",
    ")"
   ]
  },
  {
   "cell_type": "code",
   "execution_count": 9,
   "metadata": {},
   "outputs": [
    {
     "data": {
      "text/plain": [
       "tensor([[[-0.7803],\n",
       "         [ 0.5858],\n",
       "         [ 0.2382],\n",
       "         [-0.0258],\n",
       "         [-1.5011],\n",
       "         [-0.1599],\n",
       "         [ 0.6591],\n",
       "         [ 0.0000],\n",
       "         [ 0.0000],\n",
       "         [ 0.0000]],\n",
       "\n",
       "        [[ 1.5190],\n",
       "         [-1.5912],\n",
       "         [ 0.1334],\n",
       "         [ 1.2730],\n",
       "         [-0.1294],\n",
       "         [ 1.8068],\n",
       "         [-0.1550],\n",
       "         [ 0.1965],\n",
       "         [ 0.4222],\n",
       "         [ 0.4366]]], device='cuda:0', grad_fn=<MaskedFillBackward0>)"
      ]
     },
     "execution_count": 9,
     "metadata": {},
     "output_type": "execute_result"
    }
   ],
   "source": [
    "outs[1]"
   ]
  }
 ],
 "metadata": {
  "kernelspec": {
   "display_name": "venv",
   "language": "python",
   "name": "python3"
  },
  "language_info": {
   "codemirror_mode": {
    "name": "ipython",
    "version": 3
   },
   "file_extension": ".py",
   "mimetype": "text/x-python",
   "name": "python",
   "nbconvert_exporter": "python",
   "pygments_lexer": "ipython3",
   "version": "3.10.13"
  },
  "orig_nbformat": 4
 },
 "nbformat": 4,
 "nbformat_minor": 2
}

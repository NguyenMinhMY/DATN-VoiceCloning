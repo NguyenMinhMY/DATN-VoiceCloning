{
 "cells": [
  {
   "cell_type": "code",
   "execution_count": null,
   "metadata": {},
   "outputs": [],
   "source": [
    "import sys\n",
    "sys.path.append(\"../\")\n",
    "\n",
    "from abc import ABC\n",
    "\n",
    "import torch\n",
    "\n",
    "from src.tts.layers.StyleAdaptor2 import StyleAdaptor2\n",
    "\n",
    "device = torch.device(\"cuda\" if torch.cuda.is_available() else \"cpu\")"
   ]
  },
  {
   "cell_type": "code",
   "execution_count": null,
   "metadata": {},
   "outputs": [],
   "source": [
    "style_adaptor = StyleAdaptor2().to(device)"
   ]
  },
  {
   "cell_type": "code",
   "execution_count": null,
   "metadata": {},
   "outputs": [],
   "source": [
    "xs = torch.rand(2,10,80).to(device)\n",
    "padding_mask = torch.tensor([\n",
    "    [0,0,0,0,0,0,0,1,1,1],\n",
    "    [0,0,0,0,0,0,0,0,0,0]\n",
    "]).to(torch.bool).to(device)\n",
    "gold_pitch = torch.rand(2,10,1).to(device)\n",
    "gold_energy = torch.rand(2,10,1).to(device)"
   ]
  },
  {
   "cell_type": "code",
   "execution_count": null,
   "metadata": {},
   "outputs": [],
   "source": [
    "outs = style_adaptor(\n",
    "    xs,\n",
    "    padding_mask=padding_mask.unsqueeze(-1),\n",
    "    gold_pitch=gold_pitch,\n",
    "    gold_energy=gold_energy,\n",
    "    is_inference=False\n",
    ")"
   ]
  },
  {
   "cell_type": "code",
   "execution_count": null,
   "metadata": {},
   "outputs": [],
   "source": [
    "outs[0]"
   ]
  },
  {
   "cell_type": "code",
   "execution_count": null,
   "metadata": {},
   "outputs": [],
   "source": [
    "outs = style_adaptor(\n",
    "    xs,\n",
    "    padding_mask=padding_mask.unsqueeze(-1),\n",
    "    gold_pitch=None,\n",
    "    gold_energy=None,\n",
    "    is_inference=True\n",
    ")"
   ]
  },
  {
   "cell_type": "code",
   "execution_count": null,
   "metadata": {},
   "outputs": [],
   "source": [
    "outs[1]"
   ]
  }
 ],
 "metadata": {
  "kernelspec": {
   "display_name": "venv",
   "language": "python",
   "name": "python3"
  },
  "language_info": {
   "codemirror_mode": {
    "name": "ipython",
    "version": 3
   },
   "file_extension": ".py",
   "mimetype": "text/x-python",
   "name": "python",
   "nbconvert_exporter": "python",
   "pygments_lexer": "ipython3",
   "version": "3.10.13"
  },
  "orig_nbformat": 4
 },
 "nbformat": 4,
 "nbformat_minor": 2
}

{
 "cells": [
  {
   "cell_type": "code",
   "execution_count": null,
   "metadata": {},
   "outputs": [],
   "source": [
    "import os, sys\n",
    "sys.path.append(\"../\")\n",
    "from abc import ABC\n",
    "\n",
    "import torch\n",
    "\n",
    "from src.tts.layers.VariancePredictor import VariancePredictor\n",
    "from src.utility.utils import make_pad_mask"
   ]
  },
  {
   "cell_type": "code",
   "execution_count": null,
   "metadata": {},
   "outputs": [],
   "source": [
    "class StyleAdaptor(torch.nn.Module):\n",
    "    \"\"\"\n",
    "    Style Adaptor module\n",
    "    \n",
    "    This is a module which same as variance adaptor in FastSpeech2 \n",
    "    without having Duration Predictor and Length Regulator\n",
    "    \"\"\"\n",
    "    \n",
    "    def __init__(\n",
    "        self,\n",
    "        adim=384,\n",
    "        # pitch predictor\n",
    "        pitch_predictor_layers=5,\n",
    "        pitch_predictor_chans=256,\n",
    "        pitch_predictor_kernel_size=5,\n",
    "        pitch_predictor_dropout=0.5,\n",
    "        pitch_embed_kernel_size=1,\n",
    "        pitch_embed_dropout=0.0,\n",
    "        # energy predictor\n",
    "        energy_predictor_layers=2,\n",
    "        energy_predictor_chans=256,\n",
    "        energy_predictor_kernel_size=3,\n",
    "        energy_predictor_dropout=0.5,\n",
    "        energy_embed_kernel_size=1,\n",
    "        energy_embed_dropout=0.0,\n",
    "    ):\n",
    "        super().__init__()\n",
    "        \n",
    "        # define pitch predictor\n",
    "        self.pitch_predictor = VariancePredictor(\n",
    "            idim=adim,\n",
    "            n_layers=pitch_predictor_layers,\n",
    "            n_chans=pitch_predictor_chans,\n",
    "            kernel_size=pitch_predictor_kernel_size,\n",
    "            dropout_rate=pitch_predictor_dropout,\n",
    "        )\n",
    "        # continuous pitch + FastPitch style avg\n",
    "        self.pitch_embed = torch.nn.Sequential(\n",
    "            torch.nn.Conv1d(\n",
    "                in_channels=1,\n",
    "                out_channels=adim,\n",
    "                kernel_size=pitch_embed_kernel_size,\n",
    "                padding=(pitch_embed_kernel_size - 1) // 2,\n",
    "            ),\n",
    "            torch.nn.Dropout(pitch_embed_dropout),\n",
    "        )\n",
    "\n",
    "        # define energy predictor\n",
    "        self.energy_predictor = VariancePredictor(\n",
    "            idim=adim,\n",
    "            n_layers=energy_predictor_layers,\n",
    "            n_chans=energy_predictor_chans,\n",
    "            kernel_size=energy_predictor_kernel_size,\n",
    "            dropout_rate=energy_predictor_dropout,\n",
    "        )\n",
    "        # continuous energy + FastPitch style avg\n",
    "        self.energy_embed = torch.nn.Sequential(\n",
    "            torch.nn.Conv1d(\n",
    "                in_channels=1,\n",
    "                out_channels=adim,\n",
    "                kernel_size=energy_embed_kernel_size,\n",
    "                padding=(energy_embed_kernel_size - 1) // 2,\n",
    "            ),\n",
    "            torch.nn.Dropout(energy_embed_dropout),\n",
    "        )\n",
    "        \n",
    "    def forward(\n",
    "        self, \n",
    "        xs, \n",
    "        padding_mask=None,\n",
    "        gold_pitch=None,\n",
    "        gold_energy=None,\n",
    "        is_inference=False\n",
    "    ):\n",
    "        pitch_predictions = self.pitch_predictor(xs, padding_mask)\n",
    "        energy_predictions = self.energy_predictor(xs, padding_mask)\n",
    "        \n",
    "        if is_inference:\n",
    "            embedded_pitch_curve = self.pitch_embed(\n",
    "                pitch_predictions.transpose(1, 2)\n",
    "            ).transpose(1,2)  # (B, Tmax, adim)\n",
    "            embedded_energy_curve = self.energy_embed(\n",
    "                energy_predictions.transpose(1, 2)\n",
    "            ).transpose(1, 2)  # (B, Tmax, adim)\n",
    "            \n",
    "            \n",
    "        else:\n",
    "            embedded_pitch_curve = self.pitch_embed(\n",
    "                gold_pitch.transpose(1, 2)\n",
    "            ).transpose(1,2)  # (B, Tmax, adim)\n",
    "            embedded_energy_curve = self.energy_embed(\n",
    "                gold_energy.transpose(1, 2)\n",
    "            ).transpose(1, 2)  # (B, Tmax, adim)\n",
    "            \n",
    "        embedded_curve = embedded_pitch_curve + embedded_energy_curve\n",
    "        \n",
    "        return (\n",
    "            embedded_curve,\n",
    "            pitch_predictions,\n",
    "            energy_predictions\n",
    "        )"
   ]
  },
  {
   "cell_type": "code",
   "execution_count": null,
   "metadata": {},
   "outputs": [],
   "source": [
    "style_adaptor = StyleAdaptor()"
   ]
  },
  {
   "cell_type": "code",
   "execution_count": null,
   "metadata": {},
   "outputs": [],
   "source": [
    "B, Tmax, adim = 2, 5, 384"
   ]
  },
  {
   "cell_type": "code",
   "execution_count": null,
   "metadata": {},
   "outputs": [],
   "source": [
    "encoder_texts = torch.rand(B, Tmax, adim)\n",
    "d_masks = make_pad_mask([3, 5])"
   ]
  },
  {
   "cell_type": "code",
   "execution_count": null,
   "metadata": {},
   "outputs": [],
   "source": [
    "embedded_curve, pitch_predictions, energy_predictions = style_adaptor(\n",
    "    encoder_texts.detach(), d_masks.unsqueeze(-1)\n",
    ")"
   ]
  },
  {
   "cell_type": "code",
   "execution_count": null,
   "metadata": {},
   "outputs": [],
   "source": [
    "print(embedded_curve.shape)\n",
    "print(pitch_predictions.shape)\n",
    "print(energy_predictions.shape)"
   ]
  }
 ],
 "metadata": {
  "kernelspec": {
   "display_name": "venv",
   "language": "python",
   "name": "python3"
  },
  "language_info": {
   "codemirror_mode": {
    "name": "ipython",
    "version": 3
   },
   "file_extension": ".py",
   "mimetype": "text/x-python",
   "name": "python",
   "nbconvert_exporter": "python",
   "pygments_lexer": "ipython3",
   "version": "3.10.13"
  },
  "orig_nbformat": 4
 },
 "nbformat": 4,
 "nbformat_minor": 2
}

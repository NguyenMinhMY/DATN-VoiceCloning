{
 "cells": [
  {
   "cell_type": "code",
   "execution_count": 1,
   "metadata": {},
   "outputs": [],
   "source": [
    "import os\n",
    "import sys\n",
    "\n",
    "sys.path.append(\"../\")\n",
    "\n",
    "from datasets import load_tts_samples\n",
    "from configs.dataset_configs import BaseDatasetConfig"
   ]
  },
  {
   "cell_type": "code",
   "execution_count": 2,
   "metadata": {},
   "outputs": [],
   "source": [
    "DATASET_BASE_PATH = '../data/librispeech'\n",
    "TEST_CLEAN_PATH = os.path.join(DATASET_BASE_PATH, 'test-clean')\n",
    "TRAIN_CLEAN_PATH = os.path.join(DATASET_BASE_PATH, 'train-clean-100')"
   ]
  },
  {
   "cell_type": "code",
   "execution_count": 3,
   "metadata": {},
   "outputs": [],
   "source": [
    "data_config = BaseDatasetConfig(\n",
    "    formatter=\"libri_tts\",\n",
    "    dataset_name=\"librispeech\",\n",
    "    path=TEST_CLEAN_PATH,\n",
    "    language=\"English\",\n",
    ")"
   ]
  },
  {
   "cell_type": "code",
   "execution_count": 7,
   "metadata": {},
   "outputs": [
    {
     "name": "stdout",
     "output_type": "stream",
     "text": [
      " | > Found 2620 files in /home/hungle45/Workspaces/ias_lab/topics/datn/data/librispeech/test-clean\n",
      "Train data: 2620\n",
      "{\n",
      "  \"audio_file\": \"../data/librispeech/test-clean/4446/2275/4446-2275-0000.flac\",\n",
      "  \"audio_unique_name\": \"librispeech#4446/2275/4446-2275-0000\",\n",
      "  \"language\": \"English\",\n",
      "  \"root_path\": \"../data/librispeech/test-clean\",\n",
      "  \"speaker_name\": \"LTTS_4446\",\n",
      "  \"text\": \"THE STOP AT QUEENSTOWN THE TEDIOUS PASSAGE UP THE MERSEY WERE THINGS THAT HE NOTED DIMLY THROUGH HIS GROWING IMPATIENCE\\n\"\n",
      "}\n"
     ]
    }
   ],
   "source": [
    "train_samples, eval_samples = load_tts_samples(\n",
    "    data_config, eval_split=False\n",
    ")\n",
    "print(f\"Train data: {len(train_samples)}\")\n",
    "\n",
    "import json\n",
    "print(json.dumps(train_samples[0], sort_keys=True, indent=2))"
   ]
  },
  {
   "cell_type": "code",
   "execution_count": 6,
   "metadata": {},
   "outputs": [
    {
     "name": "stdout",
     "output_type": "stream",
     "text": [
      " | > Found 2620 files in /home/hungle45/Workspaces/ias_lab/topics/datn/data/librispeech/test-clean\n",
      "Train data: 2594, Test data: 26\n"
     ]
    }
   ],
   "source": [
    "train_samples, eval_samples = load_tts_samples(data_config)\n",
    "print(f\"Train data: {len(train_samples)}, Test data: {len(eval_samples)}\")"
   ]
  }
 ],
 "metadata": {
  "kernelspec": {
   "display_name": "venv",
   "language": "python",
   "name": "python3"
  },
  "language_info": {
   "codemirror_mode": {
    "name": "ipython",
    "version": 3
   },
   "file_extension": ".py",
   "mimetype": "text/x-python",
   "name": "python",
   "nbconvert_exporter": "python",
   "pygments_lexer": "ipython3",
   "version": "3.10.13"
  },
  "orig_nbformat": 4
 },
 "nbformat": 4,
 "nbformat_minor": 2
}

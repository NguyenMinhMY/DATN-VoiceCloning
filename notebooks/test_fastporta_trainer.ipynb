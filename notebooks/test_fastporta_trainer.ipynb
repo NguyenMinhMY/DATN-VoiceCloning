{
 "cells": [
  {
   "cell_type": "code",
   "execution_count": null,
   "metadata": {},
   "outputs": [],
   "source": [
    "import sys\n",
    "sys.path.append(\"../\")\n",
    "\n",
    "import torch\n",
    "import torchaudio\n",
    "import librosa\n",
    "import numpy as np\n",
    "from numpy import trim_zeros\n",
    "\n",
    "\n",
    "from src.datasets.fastspeech_dataset import (\n",
    "    build_path_to_transcript_dict_libri_tts,\n",
    "    FastSpeechDataset)\n",
    "from src.tts.models.fastporta.FastPorta import FastPorta\n",
    "from src.pipelines.fastporta.train_loop import train_loop\n",
    "from src.spk_embedding.StyleEmbedding import StyleEmbedding\n",
    "\n",
    "device = \"cuda\" if torch.cuda.is_available() else \"cpu\"\n",
    "device"
   ]
  },
  {
   "cell_type": "code",
   "execution_count": null,
   "metadata": {},
   "outputs": [],
   "source": [
    "TEST_CLEAN_PATH = '../data/test-clean'\n",
    "ALIGNER_CHECKPOINT = '../saved_models/aligner.pt'\n",
    "EMBED_MODEL = \"../saved_models/embedding_function.pt\""
   ]
  },
  {
   "cell_type": "code",
   "execution_count": null,
   "metadata": {},
   "outputs": [],
   "source": [
    "transcript_dict = build_path_to_transcript_dict_libri_tts(TEST_CLEAN_PATH)"
   ]
  },
  {
   "cell_type": "code",
   "execution_count": null,
   "metadata": {},
   "outputs": [],
   "source": [
    "dataset = FastSpeechDataset(\n",
    "    path_to_transcript_dict=transcript_dict,\n",
    "    acoustic_checkpoint_path=ALIGNER_CHECKPOINT,  # path to aligner.pt\n",
    "    cache_dir=\"./librispeech\",\n",
    "    lang=\"en\",\n",
    "    loading_processes=2,  # depended on how many CPU you have\n",
    "    device=device,\n",
    ")"
   ]
  },
  {
   "cell_type": "code",
   "execution_count": null,
   "metadata": {},
   "outputs": [],
   "source": [
    "net = FastPorta()"
   ]
  },
  {
   "cell_type": "code",
   "execution_count": null,
   "metadata": {},
   "outputs": [],
   "source": [
    "train_loop(\n",
    "    net,\n",
    "    dataset,\n",
    "    device=device,\n",
    "    batch_size=2,\n",
    "    save_directory=\"../saved_models\",\n",
    "    path_to_checkpoint=None,\n",
    "    resume=False,\n",
    "    phase_1_steps=4,\n",
    "    phase_2_steps=0,\n",
    "    steps_per_save=1,\n",
    "    path_to_embed_model=\"../saved_models/embedding_function.pt\",\n",
    "    lr=0.01,\n",
    ")"
   ]
  },
  {
   "cell_type": "code",
   "execution_count": null,
   "metadata": {},
   "outputs": [],
   "source": [
    "text_tensors=torch.rand(2,5,62)\n",
    "text_lens=torch.tensor([5,3])\n",
    "speech_lens=torch.tensor([10,7])\n",
    "gold_speech=torch.rand(2,10,80)\n",
    "gold_durations=torch.tensor([\n",
    "    [2,2,2,2,2],\n",
    "    [2,2,3,0,0]\n",
    "])\n",
    "gold_pitch=torch.rand(2,5,1)\n",
    "gold_energy=torch.rand(2,5,1)\n",
    "is_inference=False\n",
    "alpha=1.0\n",
    "utterance_embedding=torch.rand(2,64)\n",
    "lang_ids=None"
   ]
  },
  {
   "cell_type": "code",
   "execution_count": null,
   "metadata": {},
   "outputs": [],
   "source": [
    "outs = net._forward(\n",
    "    text_tensors=text_tensors,\n",
    "    text_lens=text_lens,\n",
    "    utterance_embedding=utterance_embedding,\n",
    "    is_inference=True,\n",
    "    lang_ids=lang_ids,\n",
    ")\n",
    "\n",
    "for v in outs:\n",
    "    print(v.shape if v != None else None)"
   ]
  },
  {
   "cell_type": "code",
   "execution_count": null,
   "metadata": {},
   "outputs": [],
   "source": [
    "outs = net._forward(\n",
    "    text_tensors=text_tensors,\n",
    "    text_lens=text_lens,\n",
    "    gold_speech=gold_speech,\n",
    "    speech_lens=speech_lens,\n",
    "    gold_durations=gold_durations,\n",
    "    gold_pitch=gold_pitch,\n",
    "    gold_energy=gold_energy,\n",
    "    utterance_embedding=utterance_embedding,\n",
    "    is_inference=False,\n",
    "    lang_ids=lang_ids,\n",
    ")\n",
    "\n",
    "for v in outs:\n",
    "    print(v.shape if v != None else None)"
   ]
  },
  {
   "cell_type": "code",
   "execution_count": null,
   "metadata": {},
   "outputs": [],
   "source": [
    "with torch.no_grad():\n",
    "    outs = net.forward(\n",
    "        text_tensors=text_tensors,\n",
    "        text_lengths=text_lens,\n",
    "        gold_speech=gold_speech,\n",
    "        speech_lengths=speech_lens,\n",
    "        gold_durations=gold_durations,\n",
    "        gold_pitch=gold_pitch,\n",
    "        gold_energy=gold_energy,\n",
    "        utterance_embedding=utterance_embedding,\n",
    "        lang_ids=lang_ids,\n",
    "    )\n",
    "\n",
    "    print(outs)"
   ]
  }
 ],
 "metadata": {
  "kernelspec": {
   "display_name": "venv",
   "language": "python",
   "name": "python3"
  },
  "language_info": {
   "codemirror_mode": {
    "name": "ipython",
    "version": 3
   },
   "file_extension": ".py",
   "mimetype": "text/x-python",
   "name": "python",
   "nbconvert_exporter": "python",
   "pygments_lexer": "ipython3",
   "version": "3.10.12"
  },
  "orig_nbformat": 4
 },
 "nbformat": 4,
 "nbformat_minor": 2
}

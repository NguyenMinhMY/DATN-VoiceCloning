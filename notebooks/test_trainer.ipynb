{
 "cells": [
  {
   "cell_type": "code",
   "execution_count": null,
   "metadata": {},
   "outputs": [],
   "source": [
    "import os\n",
    "import sys\n",
    "\n",
    "sys.path.append(\"../\")\n",
    "\n",
    "import torch\n",
    "\n",
    "from src.datasets.fastspeech_dataset import (\n",
    "    build_path_to_transcript_dict_libri_tts,\n",
    "    FastSpeechDataset,\n",
    "    Miniset,\n",
    ")\n",
    "\n",
    "from src.tts.models.fastspeech2.FastSpeech2 import FastSpeech2\n",
    "from src.pipelines.gst_fastspeech2 import meta_train_loop, train_loop\n",
    "\n",
    "device = \"cuda\" if torch.cuda.is_available() else \"cpu\"\n",
    "device"
   ]
  },
  {
   "cell_type": "code",
   "execution_count": null,
   "metadata": {},
   "outputs": [],
   "source": [
    "DATASET_BASE_PATH = '../data/librispeech'\n",
    "# TEST_CLEAN_PATH = os.path.join(DATASET_BASE_PATH, 'test-clean')\n",
    "TEST_CLEAN_PATH = '../data/test-clean'\n",
    "TRAIN_CLEAN_PATH = os.path.join(DATASET_BASE_PATH, 'train-clean-100')\n",
    "ALIGNER_CHECKPOINT = \"../saved_models/aligner.pt\""
   ]
  },
  {
   "cell_type": "code",
   "execution_count": null,
   "metadata": {},
   "outputs": [],
   "source": [
    "transcript_dict = build_path_to_transcript_dict_libri_tts(TEST_CLEAN_PATH)"
   ]
  },
  {
   "cell_type": "code",
   "execution_count": null,
   "metadata": {},
   "outputs": [],
   "source": [
    "dataset = FastSpeechDataset(\n",
    "    path_to_transcript_dict=transcript_dict,\n",
    "    acoustic_checkpoint_path=ALIGNER_CHECKPOINT,  # path to aligner.pt\n",
    "    cache_dir=\"./librispeech\",\n",
    "    lang=\"en\",\n",
    "    loading_processes=2,  # depended on how many CPU you have\n",
    "    device=device,\n",
    ")"
   ]
  },
  {
   "cell_type": "code",
   "execution_count": null,
   "metadata": {},
   "outputs": [],
   "source": [
    "speaker_ids = os.listdir(TEST_CLEAN_PATH)"
   ]
  },
  {
   "cell_type": "code",
   "execution_count": null,
   "metadata": {},
   "outputs": [],
   "source": [
    "net = FastSpeech2()"
   ]
  },
  {
   "cell_type": "code",
   "execution_count": null,
   "metadata": {},
   "outputs": [],
   "source": [
    "train_loop.train_loop(\n",
    "    net,\n",
    "    dataset,\n",
    "    device=device,\n",
    "    batch_size=2,\n",
    "    save_directory=\"./save_models\",\n",
    "    path_to_checkpoint=None,\n",
    "    resume=False,\n",
    "    phase_1_steps=2,\n",
    "    phase_2_steps=2,\n",
    "    steps_per_save=1,\n",
    "    path_to_embed_model=\"../saved_models/embedding_function.pt\",\n",
    "    lr=0.01,\n",
    ")"
   ]
  }
 ],
 "metadata": {
  "kernelspec": {
   "display_name": "venv",
   "language": "python",
   "name": "python3"
  },
  "language_info": {
   "codemirror_mode": {
    "name": "ipython",
    "version": 3
   },
   "file_extension": ".py",
   "mimetype": "text/x-python",
   "name": "python",
   "nbconvert_exporter": "python",
   "pygments_lexer": "ipython3",
   "version": "3.10.13"
  },
  "orig_nbformat": 4
 },
 "nbformat": 4,
 "nbformat_minor": 2
}

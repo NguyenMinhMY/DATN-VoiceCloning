{
 "cells": [
  {
   "cell_type": "code",
   "execution_count": 1,
   "metadata": {},
   "outputs": [
    {
     "name": "stderr",
     "output_type": "stream",
     "text": [
      "/home/hungle45/Workspaces/ias_lab/topics/datn/venv/lib/python3.10/site-packages/tqdm/auto.py:22: TqdmWarning: IProgress not found. Please update jupyter and ipywidgets. See https://ipywidgets.readthedocs.io/en/stable/user_install.html\n",
      "  from .autonotebook import tqdm as notebook_tqdm\n"
     ]
    },
    {
     "data": {
      "text/plain": [
       "'cuda'"
      ]
     },
     "execution_count": 1,
     "metadata": {},
     "output_type": "execute_result"
    }
   ],
   "source": [
    "import os\n",
    "import sys\n",
    "\n",
    "sys.path.append(\"../\")\n",
    "\n",
    "import torch\n",
    "from torch.utils.data import Dataset\n",
    "\n",
    "from src.datasets.fastglow_dataset import (\n",
    "    build_path_to_transcript_dict_libri_tts,\n",
    "    FastGlowDataset,\n",
    ")\n",
    "\n",
    "from src.tts.models.alignpitch.AlignPitch import AlignPitch\n",
    "from src.pipelines.alignpitch.train_loop import train_loop\n",
    "\n",
    "device = \"cuda\" if torch.cuda.is_available() else \"cpu\"\n",
    "device"
   ]
  },
  {
   "cell_type": "code",
   "execution_count": 2,
   "metadata": {},
   "outputs": [],
   "source": [
    "TEST_CLEAN_PATH = '../data/test-clean'\n",
    "STYLE_EMBED_CHECKPOINT = \"../saved_models/embedding_function.pt\""
   ]
  },
  {
   "cell_type": "code",
   "execution_count": 3,
   "metadata": {},
   "outputs": [],
   "source": [
    "transcript_dict = build_path_to_transcript_dict_libri_tts(TEST_CLEAN_PATH)"
   ]
  },
  {
   "cell_type": "code",
   "execution_count": 4,
   "metadata": {},
   "outputs": [
    {
     "name": "stdout",
     "output_type": "stream",
     "text": [
      "Prepared a FastGlow dataset with 18 datapoints in ./librispeech/fastglow/test.\n"
     ]
    }
   ],
   "source": [
    "dataset = FastGlowDataset(\n",
    "    path_to_transcript_dict=transcript_dict,\n",
    "    cache_dir=\"./librispeech/fastglow/test\",\n",
    "    lang=\"en\",\n",
    "    loading_processes=2,  # depended on how many CPU you have\n",
    "    device=device,\n",
    ")"
   ]
  },
  {
   "cell_type": "code",
   "execution_count": 5,
   "metadata": {},
   "outputs": [],
   "source": [
    "net = AlignPitch()"
   ]
  },
  {
   "cell_type": "code",
   "execution_count": 6,
   "metadata": {},
   "outputs": [
    {
     "name": "stdout",
     "output_type": "stream",
     "text": [
      "Starting training\n"
     ]
    },
    {
     "name": "stderr",
     "output_type": "stream",
     "text": [
      "100%|██████████| 9/9 [00:08<00:00,  1.03it/s]\n"
     ]
    },
    {
     "name": "stdout",
     "output_type": "stream",
     "text": [
      "\n",
      "Steps: 1\n",
      "loss: 28.570 - loss_aligner: 19.090 - loss_binary_alignment: 0.442 - loss_cycle: 2.699 - loss_dur: 0.589 - loss_energy: 0.364 - loss_pitch: 0.339 - loss_spec: 6.990 - loss_ssim: 0.756\n",
      "Time elapsed:  0 Minutes\n"
     ]
    },
    {
     "name": "stderr",
     "output_type": "stream",
     "text": [
      "100%|██████████| 9/9 [00:06<00:00,  1.45it/s]\n"
     ]
    },
    {
     "name": "stdout",
     "output_type": "stream",
     "text": [
      "\n",
      "Steps: 2\n",
      "loss: 28.533 - loss_aligner: 19.090 - loss_binary_alignment: 0.435 - loss_cycle: 2.670 - loss_dur: 0.553 - loss_energy: 0.371 - loss_pitch: 0.373 - loss_spec: 6.949 - loss_ssim: 0.763\n",
      "Time elapsed:  0 Minutes\n"
     ]
    },
    {
     "name": "stderr",
     "output_type": "stream",
     "text": [
      "100%|██████████| 9/9 [00:05<00:00,  1.52it/s]\n"
     ]
    },
    {
     "name": "stdout",
     "output_type": "stream",
     "text": [
      "\n",
      "Steps: 3\n",
      "loss: 28.166 - loss_aligner: 19.090 - loss_binary_alignment: 0.438 - loss_cycle: 2.657 - loss_dur: 0.495 - loss_energy: 0.388 - loss_pitch: 0.347 - loss_spec: 6.602 - loss_ssim: 0.806\n",
      "Time elapsed:  0 Minutes\n"
     ]
    },
    {
     "name": "stderr",
     "output_type": "stream",
     "text": [
      "100%|██████████| 9/9 [00:06<00:00,  1.45it/s]\n"
     ]
    },
    {
     "name": "stdout",
     "output_type": "stream",
     "text": [
      "\n",
      "Steps: 4\n",
      "loss: 27.528 - loss_aligner: 19.089 - loss_binary_alignment: 0.437 - loss_cycle: 2.678 - loss_dur: 0.372 - loss_energy: 0.369 - loss_pitch: 0.364 - loss_spec: 6.132 - loss_ssim: 0.765\n",
      "Time elapsed:  0 Minutes\n"
     ]
    }
   ],
   "source": [
    "train_loop(\n",
    "    net,\n",
    "    dataset,\n",
    "    device=device,\n",
    "    batch_size=2,\n",
    "    save_directory=\"../saved_models/test\",\n",
    "    path_to_checkpoint=None,\n",
    "    resume=False,\n",
    "    phase_1_steps=2,\n",
    "    phase_2_steps=2,\n",
    "    steps_per_save=1,\n",
    "    path_to_embed_model=STYLE_EMBED_CHECKPOINT,\n",
    "    lr=0.0001,\n",
    ")"
   ]
  }
 ],
 "metadata": {
  "kernelspec": {
   "display_name": "venv",
   "language": "python",
   "name": "python3"
  },
  "language_info": {
   "codemirror_mode": {
    "name": "ipython",
    "version": 3
   },
   "file_extension": ".py",
   "mimetype": "text/x-python",
   "name": "python",
   "nbconvert_exporter": "python",
   "pygments_lexer": "ipython3",
   "version": "3.10.13"
  }
 },
 "nbformat": 4,
 "nbformat_minor": 2
}
